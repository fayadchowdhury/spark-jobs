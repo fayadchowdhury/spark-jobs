{
 "cells": [
  {
   "cell_type": "code",
   "execution_count": null,
   "id": "5acc5344-74fd-4224-a32f-700af6b6fa56",
   "metadata": {},
   "outputs": [],
   "source": [
    "from pyspark.sql import SparkSession\n",
    "from dotenv import load_dotenv\n",
    "import os"
   ]
  },
  {
   "cell_type": "code",
   "execution_count": null,
   "id": "c4e6511f-3f16-4106-af28-f5c7589d1e64",
   "metadata": {},
   "outputs": [],
   "source": [
    "dotenv_path = \"../.env\""
   ]
  },
  {
   "cell_type": "code",
   "execution_count": null,
   "id": "c6f4d777-389d-4f24-8be0-95bed23348cd",
   "metadata": {},
   "outputs": [],
   "source": [
    "load_dotenv(dotenv_path)"
   ]
  },
  {
   "cell_type": "code",
   "execution_count": null,
   "id": "7981531c-fd72-4f37-8697-bc6d1efafa40",
   "metadata": {},
   "outputs": [],
   "source": [
    "# Spark Config\n",
    "SPARK_APPNAME = \"delta-minio-tests\"\n",
    "SPARK_MASTER = os.getenv(\"SPARK_MASTER\")\n",
    "\n",
    "# Minio Config\n",
    "MINIO_ENDPOINT = os.getenv(\"MINIO_ENDPOINT\")\n",
    "MINIO_USER = os.getenv(\"MINIO_USER\")\n",
    "MINIO_PASSWORD = os.getenv(\"MINIO_PASSWORD\")"
   ]
  },
  {
   "cell_type": "code",
   "execution_count": null,
   "id": "895bfcb2-9f80-48c9-9037-cb32dfd7959f",
   "metadata": {},
   "outputs": [],
   "source": [
    "spark = SparkSession.builder \\\n",
    "    .appName(SPARK_APPNAME) \\\n",
    "    .master(SPARK_MASTER) \\\n",
    "    .config(\"spark.jars.packages\",\n",
    "            \"io.delta:delta-spark_2.13:4.0.0,\"\n",
    "            \"org.apache.hadoop:hadoop-aws:3.4.1,\") \\\n",
    "    .config(\"spark.sql.extensions\", \"io.delta.sql.DeltaSparkSessionExtension\") \\\n",
    "    .config(\"spark.sql.catalog.spark_catalog\", \"org.apache.spark.sql.delta.catalog.DeltaCatalog\") \\\n",
    "    .config(\"spark.hadoop.fs.s3a.endpoint\", MINIO_ENDPOINT) \\\n",
    "    .config(\"spark.hadoop.fs.s3a.access.key\", MINIO_USER) \\\n",
    "    .config(\"spark.hadoop.fs.s3a.secret.key\", MINIO_PASSWORD) \\\n",
    "    .config(\"spark.hadoop.fs.s3a.path.style.access\", \"true\") \\\n",
    "    .config(\"spark.hadoop.fs.s3a.impl\", \"org.apache.hadoop.fs.s3a.S3AFileSystem\") \\\n",
    "    .config(\"spark.hadoop.fs.s3a.connection.ssl.enabled\", False) \\\n",
    "    .getOrCreate()"
   ]
  },
  {
   "cell_type": "code",
   "execution_count": null,
   "id": "db1926a7-0faf-4303-9a19-ff9de1b21782",
   "metadata": {},
   "outputs": [],
   "source": [
    "df = spark.range(5)"
   ]
  },
  {
   "cell_type": "code",
   "execution_count": null,
   "id": "5ef6bff6-98d4-410b-b70f-4d3808742f24",
   "metadata": {},
   "outputs": [],
   "source": [
    "df.write.format(\"delta\").mode(\"overwrite\").save(\"s3a://my-bucket/delta-table\")"
   ]
  }
 ],
 "metadata": {
  "kernelspec": {
   "display_name": "Python 3 (ipykernel)",
   "language": "python",
   "name": "python3"
  },
  "language_info": {
   "codemirror_mode": {
    "name": "ipython",
    "version": 3
   },
   "file_extension": ".py",
   "mimetype": "text/x-python",
   "name": "python",
   "nbconvert_exporter": "python",
   "pygments_lexer": "ipython3",
   "version": "3.13.2"
  }
 },
 "nbformat": 4,
 "nbformat_minor": 5
}
