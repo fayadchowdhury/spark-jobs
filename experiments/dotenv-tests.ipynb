{
 "cells": [
  {
   "cell_type": "code",
   "execution_count": 1,
   "id": "1a88f944-63c7-4fe6-827f-38f70f691fd5",
   "metadata": {},
   "outputs": [],
   "source": [
    "from pyspark.sql import SparkSession\n",
    "from dotenv import load_dotenv\n",
    "import os"
   ]
  },
  {
   "cell_type": "code",
   "execution_count": 2,
   "id": "cf0f7714-4a02-47ec-ad84-11a595062452",
   "metadata": {},
   "outputs": [],
   "source": [
    "dotenv_path = \"../.env\""
   ]
  },
  {
   "cell_type": "code",
   "execution_count": 3,
   "id": "53f4ca0d-9ea7-468b-9e46-dd03c235c564",
   "metadata": {},
   "outputs": [
    {
     "data": {
      "text/plain": [
       "True"
      ]
     },
     "execution_count": 3,
     "metadata": {},
     "output_type": "execute_result"
    }
   ],
   "source": [
    "load_dotenv(dotenv_path)"
   ]
  },
  {
   "cell_type": "code",
   "execution_count": 4,
   "id": "34283942-3593-4d8c-bbc1-a957d4f21bde",
   "metadata": {},
   "outputs": [],
   "source": [
    "# Spark Config\n",
    "SPARK_APPNAME = \"dotenv-tests\"\n",
    "SPARK_MASTER = os.getenv(\"SPARK_MASTER\")"
   ]
  },
  {
   "cell_type": "code",
   "execution_count": 5,
   "id": "8e247b33-c9e5-466b-8e7d-e092dcda894e",
   "metadata": {},
   "outputs": [
    {
     "name": "stderr",
     "output_type": "stream",
     "text": [
      "WARNING: Using incubator modules: jdk.incubator.vector\n",
      "Using Spark's default log4j profile: org/apache/spark/log4j2-defaults.properties\n",
      "25/07/14 13:44:55 WARN Utils: Your hostname, fayad.local, resolves to a loopback address: 127.0.0.1; using 192.168.30.17 instead (on interface en0)\n",
      "25/07/14 13:44:55 WARN Utils: Set SPARK_LOCAL_IP if you need to bind to another address\n",
      "Using Spark's default log4j profile: org/apache/spark/log4j2-defaults.properties\n",
      "Setting default log level to \"WARN\".\n",
      "To adjust logging level use sc.setLogLevel(newLevel). For SparkR, use setLogLevel(newLevel).\n",
      "25/07/14 13:44:55 WARN NativeCodeLoader: Unable to load native-hadoop library for your platform... using builtin-java classes where applicable\n"
     ]
    }
   ],
   "source": [
    "spark = SparkSession.builder.appName(SPARK_APPNAME).master(SPARK_MASTER).config(\"spark.driver.host\", \"localhost\").getOrCreate()"
   ]
  }
 ],
 "metadata": {
  "kernelspec": {
   "display_name": "Python 3 (ipykernel)",
   "language": "python",
   "name": "python3"
  },
  "language_info": {
   "codemirror_mode": {
    "name": "ipython",
    "version": 3
   },
   "file_extension": ".py",
   "mimetype": "text/x-python",
   "name": "python",
   "nbconvert_exporter": "python",
   "pygments_lexer": "ipython3",
   "version": "3.13.2"
  }
 },
 "nbformat": 4,
 "nbformat_minor": 5
}
